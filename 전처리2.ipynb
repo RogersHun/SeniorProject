{
 "cells": [
  {
   "cell_type": "markdown",
   "id": "13630c58",
   "metadata": {},
   "source": [
    "## Idae\n",
    "1. 사용자가 선호하는 맥주 세가지를 선택하면 -> 그 맥주에 대해 좋은 평가를 준 리뷰어들이 좋은 평가를 내린 다른 맥주를 3가지정도 추천해준다.\n",
    "2. 회귀분석이 의미가 없다면 다른 자잘한 분석들을 도출해 내서 결국 '객체탐지' 를 통한 prototype 개발 + 이 앱에 대한 경영적 시장 분석 방법론 등을 하는게 insight가 있어보임."
   ]
  },
  {
   "cell_type": "code",
   "execution_count": 73,
   "id": "7569d7d8",
   "metadata": {},
   "outputs": [],
   "source": [
    "import pandas as pd"
   ]
  },
  {
   "cell_type": "code",
   "execution_count": 74,
   "id": "acf96cfa",
   "metadata": {},
   "outputs": [],
   "source": [
    "df = pd.read_csv('/Users/macbookair/Desktop/김남훈/프로젝트/졸작/크롤링/크롤링+데이터/data.csv')"
   ]
  },
  {
   "cell_type": "code",
   "execution_count": 75,
   "id": "2c4b5674",
   "metadata": {},
   "outputs": [],
   "source": [
    "pd.set_option('display.max_columns', None)\n",
    "pd.set_option('display.max_colwidth', None)"
   ]
  },
  {
   "cell_type": "code",
   "execution_count": 58,
   "id": "a7359f6f",
   "metadata": {},
   "outputs": [
    {
     "name": "stdout",
     "output_type": "stream",
     "text": [
      "<class 'pandas.core.frame.DataFrame'>\n",
      "RangeIndex: 68576 entries, 0 to 68575\n",
      "Data columns (total 9 columns):\n",
      " #   Column      Non-Null Count  Dtype  \n",
      "---  ------      --------------  -----  \n",
      " 0   ID          68576 non-null  object \n",
      " 1   rating      68576 non-null  float64\n",
      " 2   date        68576 non-null  object \n",
      " 3   beer_name   68576 non-null  object \n",
      " 4   review      68576 non-null  object \n",
      " 5   Aroma       68576 non-null  int64  \n",
      " 6   Appearance  68576 non-null  int64  \n",
      " 7   Flavor      68576 non-null  int64  \n",
      " 8   Mouthfeel   68576 non-null  int64  \n",
      "dtypes: float64(1), int64(4), object(4)\n",
      "memory usage: 4.7+ MB\n"
     ]
    }
   ],
   "source": [
    "df.info()"
   ]
  },
  {
   "cell_type": "code",
   "execution_count": 76,
   "id": "0006bd99",
   "metadata": {},
   "outputs": [
    {
     "data": {
      "text/html": [
       "<div>\n",
       "<style scoped>\n",
       "    .dataframe tbody tr th:only-of-type {\n",
       "        vertical-align: middle;\n",
       "    }\n",
       "\n",
       "    .dataframe tbody tr th {\n",
       "        vertical-align: top;\n",
       "    }\n",
       "\n",
       "    .dataframe thead th {\n",
       "        text-align: right;\n",
       "    }\n",
       "</style>\n",
       "<table border=\"1\" class=\"dataframe\">\n",
       "  <thead>\n",
       "    <tr style=\"text-align: right;\">\n",
       "      <th></th>\n",
       "      <th>ID</th>\n",
       "      <th>rating</th>\n",
       "      <th>date</th>\n",
       "      <th>beer_name</th>\n",
       "      <th>review</th>\n",
       "      <th>Aroma</th>\n",
       "      <th>Appearance</th>\n",
       "      <th>Flavor</th>\n",
       "      <th>Mouthfeel</th>\n",
       "    </tr>\n",
       "  </thead>\n",
       "  <tbody>\n",
       "    <tr>\n",
       "      <th>0</th>\n",
       "      <td>vinivini(9,584)</td>\n",
       "      <td>2.9</td>\n",
       "      <td>December 29, 2022</td>\n",
       "      <td>Kloud Original Gravity</td>\n",
       "      <td>Straight from the can. Clean, malty, bready &amp; grassy. Light sweet, light to medium bitter. Mouth feel: light to medium body, avera to lively carbonation. Summary: ok lager</td>\n",
       "      <td>5</td>\n",
       "      <td>4</td>\n",
       "      <td>6</td>\n",
       "      <td>4</td>\n",
       "    </tr>\n",
       "    <tr>\n",
       "      <th>1</th>\n",
       "      <td>italianjohn(5,521)</td>\n",
       "      <td>2.8</td>\n",
       "      <td>September 6, 2021</td>\n",
       "      <td>Kloud Original Gravity</td>\n",
       "      <td>Clear golden blonde pour with a thin white head and spots of lacing …. Aroma of sweet malts, caramel malt, some light floral notes, grape  and a little bit of lemon … taste is of the same, lemon, little floral, sweet caramel malts, grape and light bitter citrusy hops …. Drinks bigger than a regular lager …. Definitely see the German ingredients in this brew … sessionable little lager</td>\n",
       "      <td>5</td>\n",
       "      <td>3</td>\n",
       "      <td>5</td>\n",
       "      <td>3</td>\n",
       "    </tr>\n",
       "    <tr>\n",
       "      <th>2</th>\n",
       "      <td>orda(296)</td>\n",
       "      <td>3.9</td>\n",
       "      <td>August 29, 2021</td>\n",
       "      <td>Kloud Original Gravity</td>\n",
       "      <td>Appearance: golden amber; slight head Taste: decent light &amp; malty 8/28/21 - 92 Town Korean Bbq (Schaumburg, IL); 22oz bottle  ---Rated via Beer Buddy for iPhone</td>\n",
       "      <td>10</td>\n",
       "      <td>5</td>\n",
       "      <td>10</td>\n",
       "      <td>5</td>\n",
       "    </tr>\n",
       "    <tr>\n",
       "      <th>3</th>\n",
       "      <td>Radek Kliber(8,125)</td>\n",
       "      <td>2.4</td>\n",
       "      <td>June 5, 2021</td>\n",
       "      <td>Kloud Original Gravity</td>\n",
       "      <td>Bottle 330 ml   Aroma: nice, fresh, on dry side. You can feel macro vibe bit of good tones. Nice herbal hop character in background.   Look: poured deep gold, clear with medium plus cap. Decent lace. 3+   Palate: medium thinner bodied, not as dry as aroma suggested. Average shorter finish.   Taste: grainy with hint of skin apple, shallow watery pause behind. Mellow mild malty back.</td>\n",
       "      <td>6</td>\n",
       "      <td>3</td>\n",
       "      <td>4</td>\n",
       "      <td>2</td>\n",
       "    </tr>\n",
       "    <tr>\n",
       "      <th>4</th>\n",
       "      <td>geologyguy(2,602)</td>\n",
       "      <td>2.3</td>\n",
       "      <td>May 26, 2021</td>\n",
       "      <td>Kloud Original Gravity</td>\n",
       "      <td>Smell is light of malt...taste is a that malt that kinda tastes like light apple.. Thick mouthfeel, all malt with decent flavor, but one dimentional...not much to rate here...had at Korean restaurant 919 for lunch...food looks great... haven't tasted yet... pandemic winding down..~590,000 US deaths...</td>\n",
       "      <td>4</td>\n",
       "      <td>3</td>\n",
       "      <td>4</td>\n",
       "      <td>3</td>\n",
       "    </tr>\n",
       "    <tr>\n",
       "      <th>...</th>\n",
       "      <td>...</td>\n",
       "      <td>...</td>\n",
       "      <td>...</td>\n",
       "      <td>...</td>\n",
       "      <td>...</td>\n",
       "      <td>...</td>\n",
       "      <td>...</td>\n",
       "      <td>...</td>\n",
       "      <td>...</td>\n",
       "    </tr>\n",
       "    <tr>\n",
       "      <th>68571</th>\n",
       "      <td>beerman991979(136)</td>\n",
       "      <td>3.2</td>\n",
       "      <td>September 2, 2000</td>\n",
       "      <td>Warsteiner Premium Verum</td>\n",
       "      <td>I didn't think this was that bad.  Yeah it doesn't fit the pilsner style, but hell, it's a good beer.  Life is too short to drink cheap beer.</td>\n",
       "      <td>6</td>\n",
       "      <td>3</td>\n",
       "      <td>6</td>\n",
       "      <td>3</td>\n",
       "    </tr>\n",
       "    <tr>\n",
       "      <th>68572</th>\n",
       "      <td>turtlehead(111)</td>\n",
       "      <td>2.9</td>\n",
       "      <td>August 28, 2000</td>\n",
       "      <td>Warsteiner Premium Verum</td>\n",
       "      <td>A yeasty, almost strong pilsner with a pleasant aroma but too much bittering.  Too much 'earthy' flavor for a pilsner.  This pilsner sets itself apart for many others with its unique hopping.  Cheers...</td>\n",
       "      <td>8</td>\n",
       "      <td>3</td>\n",
       "      <td>6</td>\n",
       "      <td>2</td>\n",
       "    </tr>\n",
       "    <tr>\n",
       "      <th>68573</th>\n",
       "      <td>Aubrey(3,516)</td>\n",
       "      <td>2.9</td>\n",
       "      <td>August 24, 2000</td>\n",
       "      <td>Warsteiner Premium Verum</td>\n",
       "      <td>Initially sharp, but then fizzy and bitter. A little rough on the palate; almost \"bread-like;\" has a real \"bready\" taste to it. Not much aroma; bittering hops are overpowering. Finishes dry AND watery, if that's even possible; it sounds funny, but it's true. Overall, I found it interesting, but a little lacking.</td>\n",
       "      <td>5</td>\n",
       "      <td>3</td>\n",
       "      <td>5</td>\n",
       "      <td>3</td>\n",
       "    </tr>\n",
       "    <tr>\n",
       "      <th>68574</th>\n",
       "      <td>Sammys(427)</td>\n",
       "      <td>2.9</td>\n",
       "      <td>July 20, 2000</td>\n",
       "      <td>Warsteiner Premium Verum</td>\n",
       "      <td>This was good for a Pilsner, I suppose, but lacked body, in my opinion.  Refreshing, I suppose, but I've had better German beers.</td>\n",
       "      <td>7</td>\n",
       "      <td>3</td>\n",
       "      <td>6</td>\n",
       "      <td>3</td>\n",
       "    </tr>\n",
       "    <tr>\n",
       "      <th>68575</th>\n",
       "      <td>PhillyBeer2112(3,413)</td>\n",
       "      <td>3.8</td>\n",
       "      <td>May 31, 2000</td>\n",
       "      <td>Warsteiner Premium Verum</td>\n",
       "      <td>One of the best pilsners - and very identifiable.  The bitterness is not always pleasant, however.</td>\n",
       "      <td>7</td>\n",
       "      <td>5</td>\n",
       "      <td>7</td>\n",
       "      <td>4</td>\n",
       "    </tr>\n",
       "  </tbody>\n",
       "</table>\n",
       "<p>68576 rows × 9 columns</p>\n",
       "</div>"
      ],
      "text/plain": [
       "                          ID  rating               date  \\\n",
       "0            vinivini(9,584)     2.9  December 29, 2022   \n",
       "1         italianjohn(5,521)     2.8  September 6, 2021   \n",
       "2                  orda(296)     3.9    August 29, 2021   \n",
       "3        Radek Kliber(8,125)     2.4       June 5, 2021   \n",
       "4          geologyguy(2,602)     2.3       May 26, 2021   \n",
       "...                      ...     ...                ...   \n",
       "68571     beerman991979(136)     3.2  September 2, 2000   \n",
       "68572        turtlehead(111)     2.9    August 28, 2000   \n",
       "68573          Aubrey(3,516)     2.9    August 24, 2000   \n",
       "68574            Sammys(427)     2.9      July 20, 2000   \n",
       "68575  PhillyBeer2112(3,413)     3.8       May 31, 2000   \n",
       "\n",
       "                      beer_name  \\\n",
       "0        Kloud Original Gravity   \n",
       "1        Kloud Original Gravity   \n",
       "2        Kloud Original Gravity   \n",
       "3        Kloud Original Gravity   \n",
       "4        Kloud Original Gravity   \n",
       "...                         ...   \n",
       "68571  Warsteiner Premium Verum   \n",
       "68572  Warsteiner Premium Verum   \n",
       "68573  Warsteiner Premium Verum   \n",
       "68574  Warsteiner Premium Verum   \n",
       "68575  Warsteiner Premium Verum   \n",
       "\n",
       "                                                                                                                                                                                                                                                                                                                                                                                                   review  \\\n",
       "0                                                                                                                                                                                                                             Straight from the can. Clean, malty, bready & grassy. Light sweet, light to medium bitter. Mouth feel: light to medium body, avera to lively carbonation. Summary: ok lager   \n",
       "1      Clear golden blonde pour with a thin white head and spots of lacing …. Aroma of sweet malts, caramel malt, some light floral notes, grape  and a little bit of lemon … taste is of the same, lemon, little floral, sweet caramel malts, grape and light bitter citrusy hops …. Drinks bigger than a regular lager …. Definitely see the German ingredients in this brew … sessionable little lager   \n",
       "2                                                                                                                                                                                                                                        Appearance: golden amber; slight head Taste: decent light & malty 8/28/21 - 92 Town Korean Bbq (Schaumburg, IL); 22oz bottle  ---Rated via Beer Buddy for iPhone   \n",
       "3        Bottle 330 ml   Aroma: nice, fresh, on dry side. You can feel macro vibe bit of good tones. Nice herbal hop character in background.   Look: poured deep gold, clear with medium plus cap. Decent lace. 3+   Palate: medium thinner bodied, not as dry as aroma suggested. Average shorter finish.   Taste: grainy with hint of skin apple, shallow watery pause behind. Mellow mild malty back.   \n",
       "4                                                                                          Smell is light of malt...taste is a that malt that kinda tastes like light apple.. Thick mouthfeel, all malt with decent flavor, but one dimentional...not much to rate here...had at Korean restaurant 919 for lunch...food looks great... haven't tasted yet... pandemic winding down..~590,000 US deaths...   \n",
       "...                                                                                                                                                                                                                                                                                                                                                                                                   ...   \n",
       "68571                                                                                                                                                                                                                                                       I didn't think this was that bad.  Yeah it doesn't fit the pilsner style, but hell, it's a good beer.  Life is too short to drink cheap beer.   \n",
       "68572                                                                                                                                                                                          A yeasty, almost strong pilsner with a pleasant aroma but too much bittering.  Too much 'earthy' flavor for a pilsner.  This pilsner sets itself apart for many others with its unique hopping.  Cheers...   \n",
       "68573                                                                           Initially sharp, but then fizzy and bitter. A little rough on the palate; almost \"bread-like;\" has a real \"bready\" taste to it. Not much aroma; bittering hops are overpowering. Finishes dry AND watery, if that's even possible; it sounds funny, but it's true. Overall, I found it interesting, but a little lacking.   \n",
       "68574                                                                                                                                                                                                                                                                   This was good for a Pilsner, I suppose, but lacked body, in my opinion.  Refreshing, I suppose, but I've had better German beers.   \n",
       "68575                                                                                                                                                                                                                                                                                                  One of the best pilsners - and very identifiable.  The bitterness is not always pleasant, however.   \n",
       "\n",
       "       Aroma  Appearance  Flavor  Mouthfeel  \n",
       "0          5           4       6          4  \n",
       "1          5           3       5          3  \n",
       "2         10           5      10          5  \n",
       "3          6           3       4          2  \n",
       "4          4           3       4          3  \n",
       "...      ...         ...     ...        ...  \n",
       "68571      6           3       6          3  \n",
       "68572      8           3       6          2  \n",
       "68573      5           3       5          3  \n",
       "68574      7           3       6          3  \n",
       "68575      7           5       7          4  \n",
       "\n",
       "[68576 rows x 9 columns]"
      ]
     },
     "execution_count": 76,
     "metadata": {},
     "output_type": "execute_result"
    }
   ],
   "source": [
    "df"
   ]
  },
  {
   "cell_type": "code",
   "execution_count": 29,
   "id": "49081444",
   "metadata": {},
   "outputs": [],
   "source": [
    "df1 = df.groupby('ID')"
   ]
  },
  {
   "cell_type": "code",
   "execution_count": 66,
   "id": "29f80af0",
   "metadata": {},
   "outputs": [
    {
     "data": {
      "text/plain": [
       "ID\n",
       "007lund(92)        12\n",
       "00cobraR(1,103)    13\n",
       "09maso3(72)         2\n",
       "0o9i(439)           6\n",
       "100Beier(464)       5\n",
       "                   ..\n",
       "zvsn(8,562)        23\n",
       "zxxzooz(13)         2\n",
       "zygell(4)           1\n",
       "zygomatic99(17)     2\n",
       "zyster99(20)        1\n",
       "Length: 13756, dtype: int64"
      ]
     },
     "execution_count": 66,
     "metadata": {},
     "output_type": "execute_result"
    }
   ],
   "source": [
    "df1.size()"
   ]
  },
  {
   "cell_type": "code",
   "execution_count": 69,
   "id": "f745aa57",
   "metadata": {},
   "outputs": [
    {
     "name": "stdout",
     "output_type": "stream",
     "text": [
      "4227\n"
     ]
    }
   ],
   "source": [
    "# df1의 size() 결과값 저장\n",
    "result = df1.size()\n",
    "\n",
    "# size()가 10 이상인 것들만 count\n",
    "count = sum(result >= 5)\n",
    "\n",
    "print(count)"
   ]
  },
  {
   "cell_type": "code",
   "execution_count": 53,
   "id": "9caf6569",
   "metadata": {},
   "outputs": [],
   "source": [
    "a = (df1.size()>10)"
   ]
  },
  {
   "cell_type": "code",
   "execution_count": 57,
   "id": "36220a55",
   "metadata": {},
   "outputs": [
    {
     "name": "stdout",
     "output_type": "stream",
     "text": [
      "<class 'pandas.core.series.Series'>\n",
      "Index: 13756 entries, 007lund(92) to zyster99(20)\n",
      "Series name: None\n",
      "Non-Null Count  Dtype\n",
      "--------------  -----\n",
      "13756 non-null  bool \n",
      "dtypes: bool(1)\n",
      "memory usage: 636.9+ KB\n"
     ]
    }
   ],
   "source": [
    "a.info()"
   ]
  },
  {
   "cell_type": "code",
   "execution_count": 9,
   "id": "ef2152c4",
   "metadata": {},
   "outputs": [
    {
     "data": {
      "text/plain": [
       "'Straight from the can. Clean, malty, bready & grassy. Light sweet, light to medium bitter. Mouth feel: light to medium body, avera to lively carbonation. Summary: ok lager'"
      ]
     },
     "execution_count": 9,
     "metadata": {},
     "output_type": "execute_result"
    }
   ],
   "source": [
    "df['review'][0]"
   ]
  },
  {
   "cell_type": "code",
   "execution_count": 10,
   "id": "1d6fe043",
   "metadata": {},
   "outputs": [
    {
     "data": {
      "text/plain": [
       "ID            0\n",
       "rating        0\n",
       "date          0\n",
       "beer_name     0\n",
       "review        0\n",
       "Aroma         0\n",
       "Appearance    0\n",
       "Flavor        0\n",
       "Mouthfeel     0\n",
       "dtype: int64"
      ]
     },
     "execution_count": 10,
     "metadata": {},
     "output_type": "execute_result"
    }
   ],
   "source": [
    "df.isnull().sum()"
   ]
  },
  {
   "cell_type": "code",
   "execution_count": 13,
   "id": "db31b33d",
   "metadata": {},
   "outputs": [
    {
     "data": {
      "text/plain": [
       "pandas.core.series.Series"
      ]
     },
     "execution_count": 13,
     "metadata": {},
     "output_type": "execute_result"
    }
   ],
   "source": [
    "type(df['review'])"
   ]
  },
  {
   "cell_type": "markdown",
   "id": "6af0589f",
   "metadata": {},
   "source": [
    "## Tokenizer"
   ]
  },
  {
   "cell_type": "code",
   "execution_count": 5,
   "id": "8a7c7c6a",
   "metadata": {
    "collapsed": true
   },
   "outputs": [
    {
     "name": "stdout",
     "output_type": "stream",
     "text": [
      "Requirement already satisfied: spacy in /Users/macbookair/opt/miniconda3/lib/python3.9/site-packages (3.5.3)\n",
      "Requirement already satisfied: spacy-legacy<3.1.0,>=3.0.11 in /Users/macbookair/opt/miniconda3/lib/python3.9/site-packages (from spacy) (3.0.12)\n",
      "Requirement already satisfied: spacy-loggers<2.0.0,>=1.0.0 in /Users/macbookair/opt/miniconda3/lib/python3.9/site-packages (from spacy) (1.0.4)\n",
      "Requirement already satisfied: murmurhash<1.1.0,>=0.28.0 in /Users/macbookair/opt/miniconda3/lib/python3.9/site-packages (from spacy) (1.0.7)\n",
      "Requirement already satisfied: cymem<2.1.0,>=2.0.2 in /Users/macbookair/opt/miniconda3/lib/python3.9/site-packages (from spacy) (2.0.6)\n",
      "Requirement already satisfied: preshed<3.1.0,>=3.0.2 in /Users/macbookair/opt/miniconda3/lib/python3.9/site-packages (from spacy) (3.0.6)\n",
      "Requirement already satisfied: thinc<8.2.0,>=8.1.8 in /Users/macbookair/opt/miniconda3/lib/python3.9/site-packages (from spacy) (8.1.10)\n",
      "Requirement already satisfied: wasabi<1.2.0,>=0.9.1 in /Users/macbookair/opt/miniconda3/lib/python3.9/site-packages (from spacy) (0.9.1)\n",
      "Requirement already satisfied: srsly<3.0.0,>=2.4.3 in /Users/macbookair/opt/miniconda3/lib/python3.9/site-packages (from spacy) (2.4.6)\n",
      "Requirement already satisfied: catalogue<2.1.0,>=2.0.6 in /Users/macbookair/opt/miniconda3/lib/python3.9/site-packages (from spacy) (2.0.7)\n",
      "Requirement already satisfied: typer<0.8.0,>=0.3.0 in /Users/macbookair/opt/miniconda3/lib/python3.9/site-packages (from spacy) (0.4.1)\n",
      "Requirement already satisfied: pathy>=0.10.0 in /Users/macbookair/opt/miniconda3/lib/python3.9/site-packages (from spacy) (0.10.1)\n",
      "Requirement already satisfied: smart-open<7.0.0,>=5.2.1 in /Users/macbookair/opt/miniconda3/lib/python3.9/site-packages (from spacy) (5.2.1)\n",
      "Requirement already satisfied: tqdm<5.0.0,>=4.38.0 in /Users/macbookair/opt/miniconda3/lib/python3.9/site-packages (from spacy) (4.65.0)\n",
      "Requirement already satisfied: numpy>=1.15.0 in /Users/macbookair/opt/miniconda3/lib/python3.9/site-packages (from spacy) (1.23.5)\n",
      "Requirement already satisfied: requests<3.0.0,>=2.13.0 in /Users/macbookair/opt/miniconda3/lib/python3.9/site-packages (from spacy) (2.30.0)\n",
      "Requirement already satisfied: pydantic!=1.8,!=1.8.1,<1.11.0,>=1.7.4 in /Users/macbookair/opt/miniconda3/lib/python3.9/site-packages (from spacy) (1.10.2)\n",
      "Requirement already satisfied: jinja2 in /Users/macbookair/opt/miniconda3/lib/python3.9/site-packages (from spacy) (3.1.2)\n",
      "Requirement already satisfied: setuptools in /Users/macbookair/opt/miniconda3/lib/python3.9/site-packages (from spacy) (61.2.0)\n",
      "Requirement already satisfied: packaging>=20.0 in /Users/macbookair/opt/miniconda3/lib/python3.9/site-packages (from spacy) (23.0)\n",
      "Requirement already satisfied: langcodes<4.0.0,>=3.2.0 in /Users/macbookair/opt/miniconda3/lib/python3.9/site-packages (from spacy) (3.3.0)\n",
      "Requirement already satisfied: typing-extensions>=4.1.0 in /Users/macbookair/opt/miniconda3/lib/python3.9/site-packages (from pydantic!=1.8,!=1.8.1,<1.11.0,>=1.7.4->spacy) (4.5.0)\n",
      "Requirement already satisfied: charset-normalizer<4,>=2 in /Users/macbookair/opt/miniconda3/lib/python3.9/site-packages (from requests<3.0.0,>=2.13.0->spacy) (3.1.0)\n",
      "Requirement already satisfied: idna<4,>=2.5 in /Users/macbookair/opt/miniconda3/lib/python3.9/site-packages (from requests<3.0.0,>=2.13.0->spacy) (3.3)\n",
      "Requirement already satisfied: urllib3<3,>=1.21.1 in /Users/macbookair/opt/miniconda3/lib/python3.9/site-packages (from requests<3.0.0,>=2.13.0->spacy) (1.26.9)\n",
      "Requirement already satisfied: certifi>=2017.4.17 in /Users/macbookair/opt/miniconda3/lib/python3.9/site-packages (from requests<3.0.0,>=2.13.0->spacy) (2023.5.7)\n",
      "Requirement already satisfied: blis<0.8.0,>=0.7.8 in /Users/macbookair/opt/miniconda3/lib/python3.9/site-packages (from thinc<8.2.0,>=8.1.8->spacy) (0.7.9)\n",
      "Requirement already satisfied: confection<1.0.0,>=0.0.1 in /Users/macbookair/opt/miniconda3/lib/python3.9/site-packages (from thinc<8.2.0,>=8.1.8->spacy) (0.0.4)\n",
      "Requirement already satisfied: click<9.0.0,>=7.1.1 in /Users/macbookair/opt/miniconda3/lib/python3.9/site-packages (from typer<0.8.0,>=0.3.0->spacy) (8.0.4)\n",
      "Requirement already satisfied: MarkupSafe>=2.0 in /Users/macbookair/opt/miniconda3/lib/python3.9/site-packages (from jinja2->spacy) (2.1.1)\n"
     ]
    }
   ],
   "source": [
    "!pip3 install spacy"
   ]
  },
  {
   "cell_type": "code",
   "execution_count": 6,
   "id": "5411802b",
   "metadata": {
    "collapsed": true
   },
   "outputs": [
    {
     "name": "stdout",
     "output_type": "stream",
     "text": [
      "\u001b[38;5;3m⚠ As of spaCy v3.0, shortcuts like 'en' are deprecated. Please use the\n",
      "full pipeline package name 'en_core_web_sm' instead.\u001b[0m\n",
      "Collecting en-core-web-sm==3.5.0\n",
      "  Downloading https://github.com/explosion/spacy-models/releases/download/en_core_web_sm-3.5.0/en_core_web_sm-3.5.0-py3-none-any.whl (12.8 MB)\n",
      "\u001b[2K     \u001b[90m━━━━━━━━━━━━━━━━━━━━━━━━━━━━━━━━━━━━━━━━\u001b[0m \u001b[32m12.8/12.8 MB\u001b[0m \u001b[31m7.3 MB/s\u001b[0m eta \u001b[36m0:00:00\u001b[0m00:01\u001b[0m00:01\u001b[0m\n",
      "\u001b[?25hRequirement already satisfied: spacy<3.6.0,>=3.5.0 in /Users/macbookair/opt/miniconda3/lib/python3.9/site-packages (from en-core-web-sm==3.5.0) (3.5.3)\n",
      "Requirement already satisfied: spacy-legacy<3.1.0,>=3.0.11 in /Users/macbookair/opt/miniconda3/lib/python3.9/site-packages (from spacy<3.6.0,>=3.5.0->en-core-web-sm==3.5.0) (3.0.12)\n",
      "Requirement already satisfied: spacy-loggers<2.0.0,>=1.0.0 in /Users/macbookair/opt/miniconda3/lib/python3.9/site-packages (from spacy<3.6.0,>=3.5.0->en-core-web-sm==3.5.0) (1.0.4)\n",
      "Requirement already satisfied: murmurhash<1.1.0,>=0.28.0 in /Users/macbookair/opt/miniconda3/lib/python3.9/site-packages (from spacy<3.6.0,>=3.5.0->en-core-web-sm==3.5.0) (1.0.7)\n",
      "Requirement already satisfied: cymem<2.1.0,>=2.0.2 in /Users/macbookair/opt/miniconda3/lib/python3.9/site-packages (from spacy<3.6.0,>=3.5.0->en-core-web-sm==3.5.0) (2.0.6)\n",
      "Requirement already satisfied: preshed<3.1.0,>=3.0.2 in /Users/macbookair/opt/miniconda3/lib/python3.9/site-packages (from spacy<3.6.0,>=3.5.0->en-core-web-sm==3.5.0) (3.0.6)\n",
      "Requirement already satisfied: thinc<8.2.0,>=8.1.8 in /Users/macbookair/opt/miniconda3/lib/python3.9/site-packages (from spacy<3.6.0,>=3.5.0->en-core-web-sm==3.5.0) (8.1.10)\n",
      "Requirement already satisfied: wasabi<1.2.0,>=0.9.1 in /Users/macbookair/opt/miniconda3/lib/python3.9/site-packages (from spacy<3.6.0,>=3.5.0->en-core-web-sm==3.5.0) (0.9.1)\n",
      "Requirement already satisfied: srsly<3.0.0,>=2.4.3 in /Users/macbookair/opt/miniconda3/lib/python3.9/site-packages (from spacy<3.6.0,>=3.5.0->en-core-web-sm==3.5.0) (2.4.6)\n",
      "Requirement already satisfied: catalogue<2.1.0,>=2.0.6 in /Users/macbookair/opt/miniconda3/lib/python3.9/site-packages (from spacy<3.6.0,>=3.5.0->en-core-web-sm==3.5.0) (2.0.7)\n",
      "Requirement already satisfied: typer<0.8.0,>=0.3.0 in /Users/macbookair/opt/miniconda3/lib/python3.9/site-packages (from spacy<3.6.0,>=3.5.0->en-core-web-sm==3.5.0) (0.4.1)\n",
      "Requirement already satisfied: pathy>=0.10.0 in /Users/macbookair/opt/miniconda3/lib/python3.9/site-packages (from spacy<3.6.0,>=3.5.0->en-core-web-sm==3.5.0) (0.10.1)\n",
      "Requirement already satisfied: smart-open<7.0.0,>=5.2.1 in /Users/macbookair/opt/miniconda3/lib/python3.9/site-packages (from spacy<3.6.0,>=3.5.0->en-core-web-sm==3.5.0) (5.2.1)\n",
      "Requirement already satisfied: tqdm<5.0.0,>=4.38.0 in /Users/macbookair/opt/miniconda3/lib/python3.9/site-packages (from spacy<3.6.0,>=3.5.0->en-core-web-sm==3.5.0) (4.65.0)\n",
      "Requirement already satisfied: numpy>=1.15.0 in /Users/macbookair/opt/miniconda3/lib/python3.9/site-packages (from spacy<3.6.0,>=3.5.0->en-core-web-sm==3.5.0) (1.23.5)\n",
      "Requirement already satisfied: requests<3.0.0,>=2.13.0 in /Users/macbookair/opt/miniconda3/lib/python3.9/site-packages (from spacy<3.6.0,>=3.5.0->en-core-web-sm==3.5.0) (2.30.0)\n",
      "Requirement already satisfied: pydantic!=1.8,!=1.8.1,<1.11.0,>=1.7.4 in /Users/macbookair/opt/miniconda3/lib/python3.9/site-packages (from spacy<3.6.0,>=3.5.0->en-core-web-sm==3.5.0) (1.10.2)\n",
      "Requirement already satisfied: jinja2 in /Users/macbookair/opt/miniconda3/lib/python3.9/site-packages (from spacy<3.6.0,>=3.5.0->en-core-web-sm==3.5.0) (3.1.2)\n",
      "Requirement already satisfied: setuptools in /Users/macbookair/opt/miniconda3/lib/python3.9/site-packages (from spacy<3.6.0,>=3.5.0->en-core-web-sm==3.5.0) (61.2.0)\n",
      "Requirement already satisfied: packaging>=20.0 in /Users/macbookair/opt/miniconda3/lib/python3.9/site-packages (from spacy<3.6.0,>=3.5.0->en-core-web-sm==3.5.0) (23.0)\n",
      "Requirement already satisfied: langcodes<4.0.0,>=3.2.0 in /Users/macbookair/opt/miniconda3/lib/python3.9/site-packages (from spacy<3.6.0,>=3.5.0->en-core-web-sm==3.5.0) (3.3.0)\n",
      "Requirement already satisfied: typing-extensions>=4.1.0 in /Users/macbookair/opt/miniconda3/lib/python3.9/site-packages (from pydantic!=1.8,!=1.8.1,<1.11.0,>=1.7.4->spacy<3.6.0,>=3.5.0->en-core-web-sm==3.5.0) (4.5.0)\n",
      "Requirement already satisfied: charset-normalizer<4,>=2 in /Users/macbookair/opt/miniconda3/lib/python3.9/site-packages (from requests<3.0.0,>=2.13.0->spacy<3.6.0,>=3.5.0->en-core-web-sm==3.5.0) (3.1.0)\n",
      "Requirement already satisfied: idna<4,>=2.5 in /Users/macbookair/opt/miniconda3/lib/python3.9/site-packages (from requests<3.0.0,>=2.13.0->spacy<3.6.0,>=3.5.0->en-core-web-sm==3.5.0) (3.3)\n",
      "Requirement already satisfied: urllib3<3,>=1.21.1 in /Users/macbookair/opt/miniconda3/lib/python3.9/site-packages (from requests<3.0.0,>=2.13.0->spacy<3.6.0,>=3.5.0->en-core-web-sm==3.5.0) (1.26.9)\n",
      "Requirement already satisfied: certifi>=2017.4.17 in /Users/macbookair/opt/miniconda3/lib/python3.9/site-packages (from requests<3.0.0,>=2.13.0->spacy<3.6.0,>=3.5.0->en-core-web-sm==3.5.0) (2023.5.7)\n",
      "Requirement already satisfied: blis<0.8.0,>=0.7.8 in /Users/macbookair/opt/miniconda3/lib/python3.9/site-packages (from thinc<8.2.0,>=8.1.8->spacy<3.6.0,>=3.5.0->en-core-web-sm==3.5.0) (0.7.9)\n",
      "Requirement already satisfied: confection<1.0.0,>=0.0.1 in /Users/macbookair/opt/miniconda3/lib/python3.9/site-packages (from thinc<8.2.0,>=8.1.8->spacy<3.6.0,>=3.5.0->en-core-web-sm==3.5.0) (0.0.4)\n",
      "Requirement already satisfied: click<9.0.0,>=7.1.1 in /Users/macbookair/opt/miniconda3/lib/python3.9/site-packages (from typer<0.8.0,>=0.3.0->spacy<3.6.0,>=3.5.0->en-core-web-sm==3.5.0) (8.0.4)\n",
      "Requirement already satisfied: MarkupSafe>=2.0 in /Users/macbookair/opt/miniconda3/lib/python3.9/site-packages (from jinja2->spacy<3.6.0,>=3.5.0->en-core-web-sm==3.5.0) (2.1.1)\n",
      "\u001b[38;5;2m✔ Download and installation successful\u001b[0m\n",
      "You can now load the package via spacy.load('en_core_web_sm')\n"
     ]
    }
   ],
   "source": [
    "!python3 -m spacy download en"
   ]
  },
  {
   "cell_type": "code",
   "execution_count": 2,
   "id": "99498a41",
   "metadata": {},
   "outputs": [],
   "source": [
    "import spacy\n",
    "from spacy.tokenizer import Tokenizer"
   ]
  },
  {
   "cell_type": "code",
   "execution_count": 3,
   "id": "a6d3968c",
   "metadata": {
    "scrolled": true
   },
   "outputs": [
    {
     "ename": "OSError",
     "evalue": "[E050] Can't find model 'en_core_web_sm'. It doesn't seem to be a Python package or a valid path to a data directory.",
     "output_type": "error",
     "traceback": [
      "\u001b[0;31m---------------------------------------------------------------------------\u001b[0m",
      "\u001b[0;31mOSError\u001b[0m                                   Traceback (most recent call last)",
      "Cell \u001b[0;32mIn [3], line 1\u001b[0m\n\u001b[0;32m----> 1\u001b[0m nlp \u001b[38;5;241m=\u001b[39m \u001b[43mspacy\u001b[49m\u001b[38;5;241;43m.\u001b[39;49m\u001b[43mload\u001b[49m\u001b[43m(\u001b[49m\u001b[38;5;124;43m\"\u001b[39;49m\u001b[38;5;124;43men_core_web_sm\u001b[39;49m\u001b[38;5;124;43m\"\u001b[39;49m\u001b[43m)\u001b[49m\n",
      "File \u001b[0;32m/opt/homebrew/lib/python3.9/site-packages/spacy/__init__.py:54\u001b[0m, in \u001b[0;36mload\u001b[0;34m(name, vocab, disable, enable, exclude, config)\u001b[0m\n\u001b[1;32m     30\u001b[0m \u001b[38;5;28;01mdef\u001b[39;00m \u001b[38;5;21mload\u001b[39m(\n\u001b[1;32m     31\u001b[0m     name: Union[\u001b[38;5;28mstr\u001b[39m, Path],\n\u001b[1;32m     32\u001b[0m     \u001b[38;5;241m*\u001b[39m,\n\u001b[0;32m   (...)\u001b[0m\n\u001b[1;32m     37\u001b[0m     config: Union[Dict[\u001b[38;5;28mstr\u001b[39m, Any], Config] \u001b[38;5;241m=\u001b[39m util\u001b[38;5;241m.\u001b[39mSimpleFrozenDict(),\n\u001b[1;32m     38\u001b[0m ) \u001b[38;5;241m-\u001b[39m\u001b[38;5;241m>\u001b[39m Language:\n\u001b[1;32m     39\u001b[0m     \u001b[38;5;124;03m\"\"\"Load a spaCy model from an installed package or a local path.\u001b[39;00m\n\u001b[1;32m     40\u001b[0m \n\u001b[1;32m     41\u001b[0m \u001b[38;5;124;03m    name (str): Package name or model path.\u001b[39;00m\n\u001b[0;32m   (...)\u001b[0m\n\u001b[1;32m     52\u001b[0m \u001b[38;5;124;03m    RETURNS (Language): The loaded nlp object.\u001b[39;00m\n\u001b[1;32m     53\u001b[0m \u001b[38;5;124;03m    \"\"\"\u001b[39;00m\n\u001b[0;32m---> 54\u001b[0m     \u001b[38;5;28;01mreturn\u001b[39;00m \u001b[43mutil\u001b[49m\u001b[38;5;241;43m.\u001b[39;49m\u001b[43mload_model\u001b[49m\u001b[43m(\u001b[49m\n\u001b[1;32m     55\u001b[0m \u001b[43m        \u001b[49m\u001b[43mname\u001b[49m\u001b[43m,\u001b[49m\n\u001b[1;32m     56\u001b[0m \u001b[43m        \u001b[49m\u001b[43mvocab\u001b[49m\u001b[38;5;241;43m=\u001b[39;49m\u001b[43mvocab\u001b[49m\u001b[43m,\u001b[49m\n\u001b[1;32m     57\u001b[0m \u001b[43m        \u001b[49m\u001b[43mdisable\u001b[49m\u001b[38;5;241;43m=\u001b[39;49m\u001b[43mdisable\u001b[49m\u001b[43m,\u001b[49m\n\u001b[1;32m     58\u001b[0m \u001b[43m        \u001b[49m\u001b[43menable\u001b[49m\u001b[38;5;241;43m=\u001b[39;49m\u001b[43menable\u001b[49m\u001b[43m,\u001b[49m\n\u001b[1;32m     59\u001b[0m \u001b[43m        \u001b[49m\u001b[43mexclude\u001b[49m\u001b[38;5;241;43m=\u001b[39;49m\u001b[43mexclude\u001b[49m\u001b[43m,\u001b[49m\n\u001b[1;32m     60\u001b[0m \u001b[43m        \u001b[49m\u001b[43mconfig\u001b[49m\u001b[38;5;241;43m=\u001b[39;49m\u001b[43mconfig\u001b[49m\u001b[43m,\u001b[49m\n\u001b[1;32m     61\u001b[0m \u001b[43m    \u001b[49m\u001b[43m)\u001b[49m\n",
      "File \u001b[0;32m/opt/homebrew/lib/python3.9/site-packages/spacy/util.py:449\u001b[0m, in \u001b[0;36mload_model\u001b[0;34m(name, vocab, disable, enable, exclude, config)\u001b[0m\n\u001b[1;32m    447\u001b[0m \u001b[38;5;28;01mif\u001b[39;00m name \u001b[38;5;129;01min\u001b[39;00m OLD_MODEL_SHORTCUTS:\n\u001b[1;32m    448\u001b[0m     \u001b[38;5;28;01mraise\u001b[39;00m \u001b[38;5;167;01mIOError\u001b[39;00m(Errors\u001b[38;5;241m.\u001b[39mE941\u001b[38;5;241m.\u001b[39mformat(name\u001b[38;5;241m=\u001b[39mname, full\u001b[38;5;241m=\u001b[39mOLD_MODEL_SHORTCUTS[name]))  \u001b[38;5;66;03m# type: ignore[index]\u001b[39;00m\n\u001b[0;32m--> 449\u001b[0m \u001b[38;5;28;01mraise\u001b[39;00m \u001b[38;5;167;01mIOError\u001b[39;00m(Errors\u001b[38;5;241m.\u001b[39mE050\u001b[38;5;241m.\u001b[39mformat(name\u001b[38;5;241m=\u001b[39mname))\n",
      "\u001b[0;31mOSError\u001b[0m: [E050] Can't find model 'en_core_web_sm'. It doesn't seem to be a Python package or a valid path to a data directory."
     ]
    }
   ],
   "source": [
    "nlp = spacy.load(\"en_core_web_sm\")"
   ]
  }
 ],
 "metadata": {
  "kernelspec": {
   "display_name": "Python 3 (ipykernel)",
   "language": "python",
   "name": "python3"
  },
  "language_info": {
   "codemirror_mode": {
    "name": "ipython",
    "version": 3
   },
   "file_extension": ".py",
   "mimetype": "text/x-python",
   "name": "python",
   "nbconvert_exporter": "python",
   "pygments_lexer": "ipython3",
   "version": "3.9.16"
  }
 },
 "nbformat": 4,
 "nbformat_minor": 5
}
