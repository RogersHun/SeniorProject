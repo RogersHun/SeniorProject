{
 "cells": [
  {
   "cell_type": "code",
   "execution_count": 1,
   "id": "f422a5d9",
   "metadata": {},
   "outputs": [],
   "source": [
    "import pandas as pd\n",
    "import nltk\n",
    "\n",
    "from nltk.corpus import stopwords\n",
    "from nltk.tokenize import word_tokenize"
   ]
  },
  {
   "cell_type": "code",
   "execution_count": 2,
   "id": "84c36ccf",
   "metadata": {},
   "outputs": [],
   "source": [
    "df = pd.read_csv('./beer_tok.csv')"
   ]
  },
  {
   "cell_type": "code",
   "execution_count": 3,
   "id": "e4c89b89",
   "metadata": {},
   "outputs": [],
   "source": [
    "pd.set_option('display.max_columns', None)\n",
    "pd.set_option('display.max_colwidth', None)"
   ]
  },
  {
   "cell_type": "code",
   "execution_count": 4,
   "id": "885ff8b5",
   "metadata": {},
   "outputs": [
    {
     "data": {
      "text/html": [
       "<div>\n",
       "<style scoped>\n",
       "    .dataframe tbody tr th:only-of-type {\n",
       "        vertical-align: middle;\n",
       "    }\n",
       "\n",
       "    .dataframe tbody tr th {\n",
       "        vertical-align: top;\n",
       "    }\n",
       "\n",
       "    .dataframe thead th {\n",
       "        text-align: right;\n",
       "    }\n",
       "</style>\n",
       "<table border=\"1\" class=\"dataframe\">\n",
       "  <thead>\n",
       "    <tr style=\"text-align: right;\">\n",
       "      <th></th>\n",
       "      <th>Unnamed: 0</th>\n",
       "      <th>beer_name</th>\n",
       "      <th>ID</th>\n",
       "      <th>rating</th>\n",
       "      <th>date</th>\n",
       "      <th>review</th>\n",
       "      <th>Aroma</th>\n",
       "      <th>Appearance</th>\n",
       "      <th>Flavor</th>\n",
       "      <th>Mouthfeel</th>\n",
       "      <th>beer_st</th>\n",
       "      <th>alcohol</th>\n",
       "      <th>tokens</th>\n",
       "      <th>tokens_filtered</th>\n",
       "    </tr>\n",
       "  </thead>\n",
       "  <tbody>\n",
       "    <tr>\n",
       "      <th>0</th>\n",
       "      <td>0</td>\n",
       "      <td>Kloud Original Gravity</td>\n",
       "      <td>vinivini(9,584)</td>\n",
       "      <td>2.9</td>\n",
       "      <td>December 29, 2022</td>\n",
       "      <td>Straight from the can. Clean, malty, bready &amp; grassy. Light sweet, light to medium bitter. Mouth feel: light to medium body, avera to lively carbonation.</td>\n",
       "      <td>2</td>\n",
       "      <td>4</td>\n",
       "      <td>3</td>\n",
       "      <td>4</td>\n",
       "      <td>Pale Lager - International / Premium</td>\n",
       "      <td>5.0%</td>\n",
       "      <td>['straight', 'can', 'clean', 'malty', 'bready', 'grassy', 'light', 'sweet', 'light', 'medium', 'bitter', 'mouth', 'feel', 'light', 'medium', 'body', 'avera', 'lively', 'carbonation']</td>\n",
       "      <td>['straight', 'clean', 'malty', 'bready', 'grassy', 'light', 'sweet', 'light', 'medium', 'bitter', 'mouth', 'feel', 'light', 'medium', 'body', 'avera', 'lively', 'carbonation']</td>\n",
       "    </tr>\n",
       "    <tr>\n",
       "      <th>1</th>\n",
       "      <td>1</td>\n",
       "      <td>Kloud Original Gravity</td>\n",
       "      <td>italianjohn(5,521)</td>\n",
       "      <td>2.8</td>\n",
       "      <td>September 6, 2021</td>\n",
       "      <td>Clear golden blonde pour with a thin white head and spots of lacing …. Aroma of sweet malts, caramel malt, some light floral notes, grape  and a little bit of lemon … taste is of the same, lemon, little floral, sweet caramel malts, grape and light bitter citrusy hops …. Drinks bigger than a regular lager …. Definitely see the German ingredients in this brew … sessionable little lager</td>\n",
       "      <td>2</td>\n",
       "      <td>3</td>\n",
       "      <td>2</td>\n",
       "      <td>3</td>\n",
       "      <td>Pale Lager - International / Premium</td>\n",
       "      <td>5.0%</td>\n",
       "      <td>['clear', 'golden', 'blonde', 'pour', 'thin', 'white', 'head', 'spot', 'lacing', 'aroma', 'sweet', 'malt', 'caramel', 'malt', 'light', 'floral', 'note', 'grape', 'little', 'bit', 'lemon', 'taste', 'lemon', 'little', 'floral', 'sweet', 'caramel', 'malt', 'grape', 'light', 'bitter', 'citrusy', 'hop', 'drink', 'bigger', 'regular', 'lager', 'definitely', 'see', 'german', 'ingredient', 'brew', 'sessionable', 'little', 'lager']</td>\n",
       "      <td>['clear', 'golden', 'blonde', 'pour', 'thin', 'white', 'head', 'spot', 'sweet', 'malt', 'caramel', 'malt', 'light', 'floral', 'note', 'grape', 'lemon', 'lemon', 'floral', 'sweet', 'caramel', 'malt', 'grape', 'light', 'bitter', 'citrusy', 'drink', 'bigger', 'regular', 'lager', 'definitely', 'german', 'ingredient', 'brew', 'sessionable', 'lager']</td>\n",
       "    </tr>\n",
       "    <tr>\n",
       "      <th>2</th>\n",
       "      <td>2</td>\n",
       "      <td>Kloud Original Gravity</td>\n",
       "      <td>orda(296)</td>\n",
       "      <td>3.9</td>\n",
       "      <td>August 29, 2021</td>\n",
       "      <td>Appearance: golden amber; slight head Taste: decent light &amp; malty 8/28/21 - 92 Town Korean Bbq (Schaumburg, IL); 22oz bottle</td>\n",
       "      <td>5</td>\n",
       "      <td>5</td>\n",
       "      <td>5</td>\n",
       "      <td>5</td>\n",
       "      <td>Pale Lager - International / Premium</td>\n",
       "      <td>5.0%</td>\n",
       "      <td>['appearance', 'golden', 'amber', 'slight', 'head', 'taste', 'decent', 'light', 'malty', 'town', 'korean', 'bbq', 'schaumburg', 'il', 'oz', 'bottle']</td>\n",
       "      <td>['appearance', 'golden', 'amber', 'head', 'light', 'malty', 'town', 'korean', 'schaumburg']</td>\n",
       "    </tr>\n",
       "  </tbody>\n",
       "</table>\n",
       "</div>"
      ],
      "text/plain": [
       "   Unnamed: 0               beer_name                  ID  rating  \\\n",
       "0           0  Kloud Original Gravity     vinivini(9,584)     2.9   \n",
       "1           1  Kloud Original Gravity  italianjohn(5,521)     2.8   \n",
       "2           2  Kloud Original Gravity           orda(296)     3.9   \n",
       "\n",
       "                date  \\\n",
       "0  December 29, 2022   \n",
       "1  September 6, 2021   \n",
       "2    August 29, 2021   \n",
       "\n",
       "                                                                                                                                                                                                                                                                                                                                                                                               review  \\\n",
       "0                                                                                                                                                                                                                                          Straight from the can. Clean, malty, bready & grassy. Light sweet, light to medium bitter. Mouth feel: light to medium body, avera to lively carbonation.    \n",
       "1  Clear golden blonde pour with a thin white head and spots of lacing …. Aroma of sweet malts, caramel malt, some light floral notes, grape  and a little bit of lemon … taste is of the same, lemon, little floral, sweet caramel malts, grape and light bitter citrusy hops …. Drinks bigger than a regular lager …. Definitely see the German ingredients in this brew … sessionable little lager   \n",
       "2                                                                                                                                                                                                                                                                      Appearance: golden amber; slight head Taste: decent light & malty 8/28/21 - 92 Town Korean Bbq (Schaumburg, IL); 22oz bottle     \n",
       "\n",
       "   Aroma  Appearance  Flavor  Mouthfeel  \\\n",
       "0      2           4       3          4   \n",
       "1      2           3       2          3   \n",
       "2      5           5       5          5   \n",
       "\n",
       "                                  beer_st alcohol  \\\n",
       "0  Pale Lager - International / Premium      5.0%   \n",
       "1  Pale Lager - International / Premium      5.0%   \n",
       "2  Pale Lager - International / Premium      5.0%   \n",
       "\n",
       "                                                                                                                                                                                                                                                                                                                                                                                                                                      tokens  \\\n",
       "0                                                                                                                                                                                                                                                     ['straight', 'can', 'clean', 'malty', 'bready', 'grassy', 'light', 'sweet', 'light', 'medium', 'bitter', 'mouth', 'feel', 'light', 'medium', 'body', 'avera', 'lively', 'carbonation']   \n",
       "1  ['clear', 'golden', 'blonde', 'pour', 'thin', 'white', 'head', 'spot', 'lacing', 'aroma', 'sweet', 'malt', 'caramel', 'malt', 'light', 'floral', 'note', 'grape', 'little', 'bit', 'lemon', 'taste', 'lemon', 'little', 'floral', 'sweet', 'caramel', 'malt', 'grape', 'light', 'bitter', 'citrusy', 'hop', 'drink', 'bigger', 'regular', 'lager', 'definitely', 'see', 'german', 'ingredient', 'brew', 'sessionable', 'little', 'lager']   \n",
       "2                                                                                                                                                                                                                                                                                      ['appearance', 'golden', 'amber', 'slight', 'head', 'taste', 'decent', 'light', 'malty', 'town', 'korean', 'bbq', 'schaumburg', 'il', 'oz', 'bottle']   \n",
       "\n",
       "                                                                                                                                                                                                                                                                                                                                              tokens_filtered  \n",
       "0                                                                                                                                                                             ['straight', 'clean', 'malty', 'bready', 'grassy', 'light', 'sweet', 'light', 'medium', 'bitter', 'mouth', 'feel', 'light', 'medium', 'body', 'avera', 'lively', 'carbonation']  \n",
       "1  ['clear', 'golden', 'blonde', 'pour', 'thin', 'white', 'head', 'spot', 'sweet', 'malt', 'caramel', 'malt', 'light', 'floral', 'note', 'grape', 'lemon', 'lemon', 'floral', 'sweet', 'caramel', 'malt', 'grape', 'light', 'bitter', 'citrusy', 'drink', 'bigger', 'regular', 'lager', 'definitely', 'german', 'ingredient', 'brew', 'sessionable', 'lager']  \n",
       "2                                                                                                                                                                                                                                                                 ['appearance', 'golden', 'amber', 'head', 'light', 'malty', 'town', 'korean', 'schaumburg']  "
      ]
     },
     "execution_count": 4,
     "metadata": {},
     "output_type": "execute_result"
    }
   ],
   "source": [
    "df.head(3)"
   ]
  },
  {
   "cell_type": "markdown",
   "id": "00f42a2e",
   "metadata": {},
   "source": [
    "## stopwords"
   ]
  },
  {
   "cell_type": "code",
   "execution_count": 32,
   "id": "70822c93",
   "metadata": {},
   "outputs": [
    {
     "name": "stderr",
     "output_type": "stream",
     "text": [
      "[nltk_data] Downloading package stopwords to\n",
      "[nltk_data]     /Users/macbookair/nltk_data...\n",
      "[nltk_data]   Package stopwords is already up-to-date!\n"
     ]
    },
    {
     "data": {
      "text/plain": [
       "True"
      ]
     },
     "execution_count": 32,
     "metadata": {},
     "output_type": "execute_result"
    }
   ],
   "source": [
    "import nltk\n",
    "nltk.download('stopwords')"
   ]
  },
  {
   "cell_type": "code",
   "execution_count": 42,
   "id": "26bb8590",
   "metadata": {},
   "outputs": [],
   "source": [
    "from nltk.corpus import stopwords\n",
    "from nltk.tokenize import word_tokenize\n",
    "\n",
    "def remove_stopwords(text, my_stopwords=None):\n",
    "    if my_stopwords is None:\n",
    "        my_stopwords = []\n",
    "    \n",
    "    default_stopwords = set(stopwords.words('english'))\n",
    "    stop_words = default_stopwords.union(set(my_stopwords))\n",
    "    tokens = word_tokenize(text)\n",
    "    filtered_tokens = [token for token in tokens if token.lower() not in stop_words]\n",
    "    filtered_text = ' '.join(filtered_tokens)\n",
    "    \n",
    "    return filtered_text\n",
    "\n",
    "my_stopwords = ['lively']\n",
    "# apply 함수를 사용하여 불용어를 제거한 텍스트로 컬럼을 갱신\n",
    "df['tokens_filtered'] = df['tokens_filtered'].apply(lambda x: remove_stopwords(x, my_stopwords))\n"
   ]
  },
  {
   "cell_type": "code",
   "execution_count": 43,
   "id": "226a2b55",
   "metadata": {},
   "outputs": [
    {
     "data": {
      "text/html": [
       "<div>\n",
       "<style scoped>\n",
       "    .dataframe tbody tr th:only-of-type {\n",
       "        vertical-align: middle;\n",
       "    }\n",
       "\n",
       "    .dataframe tbody tr th {\n",
       "        vertical-align: top;\n",
       "    }\n",
       "\n",
       "    .dataframe thead th {\n",
       "        text-align: right;\n",
       "    }\n",
       "</style>\n",
       "<table border=\"1\" class=\"dataframe\">\n",
       "  <thead>\n",
       "    <tr style=\"text-align: right;\">\n",
       "      <th></th>\n",
       "      <th>Unnamed: 0</th>\n",
       "      <th>beer_name</th>\n",
       "      <th>ID</th>\n",
       "      <th>rating</th>\n",
       "      <th>date</th>\n",
       "      <th>review</th>\n",
       "      <th>Aroma</th>\n",
       "      <th>Appearance</th>\n",
       "      <th>Flavor</th>\n",
       "      <th>Mouthfeel</th>\n",
       "      <th>beer_st</th>\n",
       "      <th>alcohol</th>\n",
       "      <th>tokens</th>\n",
       "      <th>tokens_filtered</th>\n",
       "    </tr>\n",
       "  </thead>\n",
       "  <tbody>\n",
       "    <tr>\n",
       "      <th>0</th>\n",
       "      <td>0</td>\n",
       "      <td>Kloud Original Gravity</td>\n",
       "      <td>vinivini(9,584)</td>\n",
       "      <td>2.9</td>\n",
       "      <td>December 29, 2022</td>\n",
       "      <td>Straight from the can. Clean, malty, bready &amp; grassy. Light sweet, light to medium bitter. Mouth feel: light to medium body, avera to lively carbonation.</td>\n",
       "      <td>2</td>\n",
       "      <td>4</td>\n",
       "      <td>3</td>\n",
       "      <td>4</td>\n",
       "      <td>Pale Lager - International / Premium</td>\n",
       "      <td>5.0%</td>\n",
       "      <td>['straight', 'can', 'clean', 'malty', 'bready', 'grassy', 'light', 'sweet', 'light', 'medium', 'bitter', 'mouth', 'feel', 'light', 'medium', 'body', 'avera', 'lively', 'carbonation']</td>\n",
       "      <td>[ 'straight ' , 'clean ' , 'malty ' , 'bready ' , 'grassy ' , 'light ' , 'sweet ' , 'light ' , 'medium ' , 'bitter ' , 'mouth ' , 'feel ' , 'light ' , 'medium ' , 'body ' , 'avera ' , 'lively ' , 'carbonation ' ]</td>\n",
       "    </tr>\n",
       "  </tbody>\n",
       "</table>\n",
       "</div>"
      ],
      "text/plain": [
       "   Unnamed: 0               beer_name               ID  rating  \\\n",
       "0           0  Kloud Original Gravity  vinivini(9,584)     2.9   \n",
       "\n",
       "                date  \\\n",
       "0  December 29, 2022   \n",
       "\n",
       "                                                                                                                                                       review  \\\n",
       "0  Straight from the can. Clean, malty, bready & grassy. Light sweet, light to medium bitter. Mouth feel: light to medium body, avera to lively carbonation.    \n",
       "\n",
       "   Aroma  Appearance  Flavor  Mouthfeel  \\\n",
       "0      2           4       3          4   \n",
       "\n",
       "                                  beer_st alcohol  \\\n",
       "0  Pale Lager - International / Premium      5.0%   \n",
       "\n",
       "                                                                                                                                                                                   tokens  \\\n",
       "0  ['straight', 'can', 'clean', 'malty', 'bready', 'grassy', 'light', 'sweet', 'light', 'medium', 'bitter', 'mouth', 'feel', 'light', 'medium', 'body', 'avera', 'lively', 'carbonation']   \n",
       "\n",
       "                                                                                                                                                                                                        tokens_filtered  \n",
       "0  [ 'straight ' , 'clean ' , 'malty ' , 'bready ' , 'grassy ' , 'light ' , 'sweet ' , 'light ' , 'medium ' , 'bitter ' , 'mouth ' , 'feel ' , 'light ' , 'medium ' , 'body ' , 'avera ' , 'lively ' , 'carbonation ' ]  "
      ]
     },
     "execution_count": 43,
     "metadata": {},
     "output_type": "execute_result"
    }
   ],
   "source": [
    "df.head(1)"
   ]
  }
 ],
 "metadata": {
  "kernelspec": {
   "display_name": "Python 3 (ipykernel)",
   "language": "python",
   "name": "python3"
  },
  "language_info": {
   "codemirror_mode": {
    "name": "ipython",
    "version": 3
   },
   "file_extension": ".py",
   "mimetype": "text/x-python",
   "name": "python",
   "nbconvert_exporter": "python",
   "pygments_lexer": "ipython3",
   "version": "3.9.16"
  }
 },
 "nbformat": 4,
 "nbformat_minor": 5
}
