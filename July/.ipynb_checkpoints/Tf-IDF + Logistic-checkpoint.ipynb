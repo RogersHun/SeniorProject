{
 "cells": [
  {
   "cell_type": "code",
   "execution_count": 10,
   "id": "636175f3",
   "metadata": {},
   "outputs": [],
   "source": [
    "import pandas as pd\n",
    "\n",
    "from sklearn.feature_extraction.text import TfidfVectorizer\n",
    "from sklearn.model_selection import train_test_split\n",
    "from sklearn.linear_model import LogisticRegression"
   ]
  },
  {
   "cell_type": "code",
   "execution_count": 2,
   "id": "69b85dcd",
   "metadata": {},
   "outputs": [],
   "source": [
    "df = pd.read_csv('./beer_tok.csv')"
   ]
  },
  {
   "cell_type": "code",
   "execution_count": 4,
   "id": "a68c7829",
   "metadata": {},
   "outputs": [
    {
     "data": {
      "text/html": [
       "<div>\n",
       "<style scoped>\n",
       "    .dataframe tbody tr th:only-of-type {\n",
       "        vertical-align: middle;\n",
       "    }\n",
       "\n",
       "    .dataframe tbody tr th {\n",
       "        vertical-align: top;\n",
       "    }\n",
       "\n",
       "    .dataframe thead th {\n",
       "        text-align: right;\n",
       "    }\n",
       "</style>\n",
       "<table border=\"1\" class=\"dataframe\">\n",
       "  <thead>\n",
       "    <tr style=\"text-align: right;\">\n",
       "      <th></th>\n",
       "      <th>Unnamed: 0</th>\n",
       "      <th>beer_name</th>\n",
       "      <th>ID</th>\n",
       "      <th>rating</th>\n",
       "      <th>date</th>\n",
       "      <th>review</th>\n",
       "      <th>Aroma</th>\n",
       "      <th>Appearance</th>\n",
       "      <th>Flavor</th>\n",
       "      <th>Mouthfeel</th>\n",
       "      <th>beer_st</th>\n",
       "      <th>alcohol</th>\n",
       "      <th>tokens</th>\n",
       "      <th>tokens_filtered</th>\n",
       "    </tr>\n",
       "  </thead>\n",
       "  <tbody>\n",
       "    <tr>\n",
       "      <th>0</th>\n",
       "      <td>0</td>\n",
       "      <td>Kloud Original Gravity</td>\n",
       "      <td>vinivini(9,584)</td>\n",
       "      <td>2.9</td>\n",
       "      <td>December 29, 2022</td>\n",
       "      <td>Straight from the can. Clean, malty, bready &amp; ...</td>\n",
       "      <td>2</td>\n",
       "      <td>4</td>\n",
       "      <td>3</td>\n",
       "      <td>4</td>\n",
       "      <td>Pale Lager - International / Premium</td>\n",
       "      <td>5.0%</td>\n",
       "      <td>['straight', 'can', 'clean', 'malty', 'bready'...</td>\n",
       "      <td>['straight', 'clean', 'malty', 'bready', 'gras...</td>\n",
       "    </tr>\n",
       "  </tbody>\n",
       "</table>\n",
       "</div>"
      ],
      "text/plain": [
       "   Unnamed: 0               beer_name               ID  rating  \\\n",
       "0           0  Kloud Original Gravity  vinivini(9,584)     2.9   \n",
       "\n",
       "                date                                             review  \\\n",
       "0  December 29, 2022  Straight from the can. Clean, malty, bready & ...   \n",
       "\n",
       "   Aroma  Appearance  Flavor  Mouthfeel  \\\n",
       "0      2           4       3          4   \n",
       "\n",
       "                                  beer_st alcohol  \\\n",
       "0  Pale Lager - International / Premium      5.0%   \n",
       "\n",
       "                                              tokens  \\\n",
       "0  ['straight', 'can', 'clean', 'malty', 'bready'...   \n",
       "\n",
       "                                     tokens_filtered  \n",
       "0  ['straight', 'clean', 'malty', 'bready', 'gras...  "
      ]
     },
     "execution_count": 4,
     "metadata": {},
     "output_type": "execute_result"
    }
   ],
   "source": [
    "df.head(1)"
   ]
  },
  {
   "cell_type": "code",
   "execution_count": 3,
   "id": "79603c94",
   "metadata": {},
   "outputs": [],
   "source": [
    "vectorizer = TfidfVectorizer(min_df=0.0, analyzer='char', sublinear_tf=True, ngram_range=(1,3), max_features=5000)"
   ]
  },
  {
   "cell_type": "code",
   "execution_count": 5,
   "id": "18e539e3",
   "metadata": {},
   "outputs": [],
   "source": [
    "X = vectorizer.fit_transform(df['tokens_filtered'])"
   ]
  },
  {
   "cell_type": "code",
   "execution_count": 24,
   "id": "b85baba2",
   "metadata": {},
   "outputs": [
    {
     "data": {
      "text/plain": [
       "68567"
      ]
     },
     "execution_count": 24,
     "metadata": {},
     "output_type": "execute_result"
    }
   ],
   "source": [
    "X.shape[0]"
   ]
  },
  {
   "cell_type": "code",
   "execution_count": 28,
   "id": "4f4fd361",
   "metadata": {
    "scrolled": true
   },
   "outputs": [
    {
     "name": "stdout",
     "output_type": "stream",
     "text": [
      "  (0, 2819)\t0.08757180184465346\n",
      "  (0, 3240)\t0.053126315962415085\n",
      "  (0, 2137)\t0.05684867882815942\n",
      "  (0, 4229)\t0.06061333689955522\n",
      "  (0, 599)\t0.05979693566873023\n",
      "  (0, 2835)\t0.06130175249382893\n",
      "  (0, 3241)\t0.06169205559852612\n",
      "  (0, 762)\t0.06416378490734267\n",
      "  (0, 3602)\t0.06426081249391505\n",
      "  (0, 548)\t0.0635046990793258\n",
      "  (0, 836)\t0.05785337701508792\n",
      "  (0, 68)\t0.053598633402944816\n",
      "  (0, 2644)\t0.04161751226241533\n",
      "  (0, 1340)\t0.07517781332778183\n",
      "  (0, 4623)\t0.09627046557827833\n",
      "  (0, 2223)\t0.07584826827008645\n",
      "  (0, 2515)\t0.10550526330501378\n",
      "  (0, 337)\t0.0630022185697137\n",
      "  (0, 3573)\t0.12718948993019763\n",
      "  (0, 1405)\t0.074649435099847\n",
      "  (0, 4626)\t0.06202979910319706\n",
      "  (0, 629)\t0.08585983721899511\n",
      "  (0, 52)\t0.0845031678971546\n",
      "  (0, 2)\t0.041678586072342864\n",
      "  (0, 3153)\t0.06611577546151323\n",
      "  :\t:\n",
      "  (0, 334)\t0.02375365191637461\n",
      "  (0, 4596)\t0.06952136810979744\n",
      "  (0, 1524)\t0.03211814502270999\n",
      "  (0, 3093)\t0.057931061301351464\n",
      "  (0, 4354)\t0.05593535633524593\n",
      "  (0, 4667)\t0.0282672370058968\n",
      "  (0, 998)\t0.05942783628455836\n",
      "  (0, 670)\t0.062423648896971544\n",
      "  (0, 4844)\t0.06945165371909774\n",
      "  (0, 2652)\t0.07536436598439475\n",
      "  (0, 2816)\t0.05092706282905752\n",
      "  (0, 1174)\t0.08082904015222167\n",
      "  (0, 2404)\t0.07468854163327382\n",
      "  (0, 818)\t0.04364245568961916\n",
      "  (0, 0)\t0.09116841788647811\n",
      "  (0, 304)\t0.09116841788647811\n",
      "  (0, 1788)\t0.06573237794070312\n",
      "  (0, 1640)\t0.06653656870069193\n",
      "  (0, 1961)\t0.07678663394092843\n",
      "  (0, 335)\t0.07665124326034627\n",
      "  (0, 3568)\t0.06671414402136432\n",
      "  (0, 4126)\t0.08160726267455376\n",
      "  (0, 3869)\t0.05824205430714913\n",
      "  (0, 28)\t0.10889436921626625\n",
      "  (0, 307)\t0.02375365191637461\n"
     ]
    }
   ],
   "source": [
    "print(X[:1])"
   ]
  },
  {
   "cell_type": "markdown",
   "id": "879dda1f",
   "metadata": {},
   "source": [
    "(행 번호, 열 번호) 형태의 희소행렬 표현을 나타냄.<br>\n",
    "뒤의 숫자는 TF-IDF의 값으로, 해당하는 단어가 얼마나 중요한지를 나타냄.<br>\n",
    "값이 클수록 해당 단어가 중요하다는 의미"
   ]
  },
  {
   "cell_type": "code",
   "execution_count": 7,
   "id": "9a76cfa8",
   "metadata": {},
   "outputs": [],
   "source": [
    "y = df['Aroma']"
   ]
  },
  {
   "cell_type": "markdown",
   "id": "9ba77d39",
   "metadata": {},
   "source": [
    "## Logistic Regression"
   ]
  },
  {
   "cell_type": "code",
   "execution_count": 9,
   "id": "87e45c86",
   "metadata": {},
   "outputs": [],
   "source": [
    "X_train, X_test, y_train, y_test = train_test_split(X,y, test_size=0.2, random_state=42)"
   ]
  },
  {
   "cell_type": "code",
   "execution_count": 11,
   "id": "ffe47d86",
   "metadata": {},
   "outputs": [
    {
     "name": "stderr",
     "output_type": "stream",
     "text": [
      "/Users/macbookair/opt/miniconda3/envs/Rogers_AI/lib/python3.9/site-packages/sklearn/linear_model/_logistic.py:458: ConvergenceWarning: lbfgs failed to converge (status=1):\n",
      "STOP: TOTAL NO. of ITERATIONS REACHED LIMIT.\n",
      "\n",
      "Increase the number of iterations (max_iter) or scale the data as shown in:\n",
      "    https://scikit-learn.org/stable/modules/preprocessing.html\n",
      "Please also refer to the documentation for alternative solver options:\n",
      "    https://scikit-learn.org/stable/modules/linear_model.html#logistic-regression\n",
      "  n_iter_i = _check_optimize_result(\n"
     ]
    },
    {
     "data": {
      "text/html": [
       "<style>#sk-container-id-1 {color: black;background-color: white;}#sk-container-id-1 pre{padding: 0;}#sk-container-id-1 div.sk-toggleable {background-color: white;}#sk-container-id-1 label.sk-toggleable__label {cursor: pointer;display: block;width: 100%;margin-bottom: 0;padding: 0.3em;box-sizing: border-box;text-align: center;}#sk-container-id-1 label.sk-toggleable__label-arrow:before {content: \"▸\";float: left;margin-right: 0.25em;color: #696969;}#sk-container-id-1 label.sk-toggleable__label-arrow:hover:before {color: black;}#sk-container-id-1 div.sk-estimator:hover label.sk-toggleable__label-arrow:before {color: black;}#sk-container-id-1 div.sk-toggleable__content {max-height: 0;max-width: 0;overflow: hidden;text-align: left;background-color: #f0f8ff;}#sk-container-id-1 div.sk-toggleable__content pre {margin: 0.2em;color: black;border-radius: 0.25em;background-color: #f0f8ff;}#sk-container-id-1 input.sk-toggleable__control:checked~div.sk-toggleable__content {max-height: 200px;max-width: 100%;overflow: auto;}#sk-container-id-1 input.sk-toggleable__control:checked~label.sk-toggleable__label-arrow:before {content: \"▾\";}#sk-container-id-1 div.sk-estimator input.sk-toggleable__control:checked~label.sk-toggleable__label {background-color: #d4ebff;}#sk-container-id-1 div.sk-label input.sk-toggleable__control:checked~label.sk-toggleable__label {background-color: #d4ebff;}#sk-container-id-1 input.sk-hidden--visually {border: 0;clip: rect(1px 1px 1px 1px);clip: rect(1px, 1px, 1px, 1px);height: 1px;margin: -1px;overflow: hidden;padding: 0;position: absolute;width: 1px;}#sk-container-id-1 div.sk-estimator {font-family: monospace;background-color: #f0f8ff;border: 1px dotted black;border-radius: 0.25em;box-sizing: border-box;margin-bottom: 0.5em;}#sk-container-id-1 div.sk-estimator:hover {background-color: #d4ebff;}#sk-container-id-1 div.sk-parallel-item::after {content: \"\";width: 100%;border-bottom: 1px solid gray;flex-grow: 1;}#sk-container-id-1 div.sk-label:hover label.sk-toggleable__label {background-color: #d4ebff;}#sk-container-id-1 div.sk-serial::before {content: \"\";position: absolute;border-left: 1px solid gray;box-sizing: border-box;top: 0;bottom: 0;left: 50%;z-index: 0;}#sk-container-id-1 div.sk-serial {display: flex;flex-direction: column;align-items: center;background-color: white;padding-right: 0.2em;padding-left: 0.2em;position: relative;}#sk-container-id-1 div.sk-item {position: relative;z-index: 1;}#sk-container-id-1 div.sk-parallel {display: flex;align-items: stretch;justify-content: center;background-color: white;position: relative;}#sk-container-id-1 div.sk-item::before, #sk-container-id-1 div.sk-parallel-item::before {content: \"\";position: absolute;border-left: 1px solid gray;box-sizing: border-box;top: 0;bottom: 0;left: 50%;z-index: -1;}#sk-container-id-1 div.sk-parallel-item {display: flex;flex-direction: column;z-index: 1;position: relative;background-color: white;}#sk-container-id-1 div.sk-parallel-item:first-child::after {align-self: flex-end;width: 50%;}#sk-container-id-1 div.sk-parallel-item:last-child::after {align-self: flex-start;width: 50%;}#sk-container-id-1 div.sk-parallel-item:only-child::after {width: 0;}#sk-container-id-1 div.sk-dashed-wrapped {border: 1px dashed gray;margin: 0 0.4em 0.5em 0.4em;box-sizing: border-box;padding-bottom: 0.4em;background-color: white;}#sk-container-id-1 div.sk-label label {font-family: monospace;font-weight: bold;display: inline-block;line-height: 1.2em;}#sk-container-id-1 div.sk-label-container {text-align: center;}#sk-container-id-1 div.sk-container {/* jupyter's `normalize.less` sets `[hidden] { display: none; }` but bootstrap.min.css set `[hidden] { display: none !important; }` so we also need the `!important` here to be able to override the default hidden behavior on the sphinx rendered scikit-learn.org. See: https://github.com/scikit-learn/scikit-learn/issues/21755 */display: inline-block !important;position: relative;}#sk-container-id-1 div.sk-text-repr-fallback {display: none;}</style><div id=\"sk-container-id-1\" class=\"sk-top-container\"><div class=\"sk-text-repr-fallback\"><pre>LogisticRegression(class_weight=&#x27;balanced&#x27;)</pre><b>In a Jupyter environment, please rerun this cell to show the HTML representation or trust the notebook. <br />On GitHub, the HTML representation is unable to render, please try loading this page with nbviewer.org.</b></div><div class=\"sk-container\" hidden><div class=\"sk-item\"><div class=\"sk-estimator sk-toggleable\"><input class=\"sk-toggleable__control sk-hidden--visually\" id=\"sk-estimator-id-1\" type=\"checkbox\" checked><label for=\"sk-estimator-id-1\" class=\"sk-toggleable__label sk-toggleable__label-arrow\">LogisticRegression</label><div class=\"sk-toggleable__content\"><pre>LogisticRegression(class_weight=&#x27;balanced&#x27;)</pre></div></div></div></div></div>"
      ],
      "text/plain": [
       "LogisticRegression(class_weight='balanced')"
      ]
     },
     "execution_count": 11,
     "metadata": {},
     "output_type": "execute_result"
    }
   ],
   "source": [
    "lgs = LogisticRegression(class_weight='balanced')\n",
    "lgs.fit(X_train, y_train)"
   ]
  },
  {
   "cell_type": "code",
   "execution_count": 12,
   "id": "8c7f80ba",
   "metadata": {},
   "outputs": [
    {
     "name": "stdout",
     "output_type": "stream",
     "text": [
      "정확도: 0.353434\n"
     ]
    }
   ],
   "source": [
    "print(\"정확도: {:f}\".format(lgs.score(X_test, y_test)))"
   ]
  }
 ],
 "metadata": {
  "kernelspec": {
   "display_name": "Python 3 (ipykernel)",
   "language": "python",
   "name": "python3"
  },
  "language_info": {
   "codemirror_mode": {
    "name": "ipython",
    "version": 3
   },
   "file_extension": ".py",
   "mimetype": "text/x-python",
   "name": "python",
   "nbconvert_exporter": "python",
   "pygments_lexer": "ipython3",
   "version": "3.9.16"
  }
 },
 "nbformat": 4,
 "nbformat_minor": 5
}
