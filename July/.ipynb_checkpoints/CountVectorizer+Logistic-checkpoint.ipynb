{
 "cells": [
  {
   "cell_type": "code",
   "execution_count": 2,
   "id": "7c409893",
   "metadata": {},
   "outputs": [],
   "source": [
    "import pandas as pd"
   ]
  },
  {
   "cell_type": "code",
   "execution_count": 3,
   "id": "502bdebf",
   "metadata": {},
   "outputs": [],
   "source": [
    "df = pd.read_csv('./beer_tok.csv')"
   ]
  },
  {
   "cell_type": "code",
   "execution_count": 5,
   "id": "0033404d",
   "metadata": {},
   "outputs": [],
   "source": [
    "pd.set_option('display.max_columns', None)"
   ]
  },
  {
   "cell_type": "code",
   "execution_count": 7,
   "id": "dadc78f1",
   "metadata": {},
   "outputs": [],
   "source": [
    "pd.set_option('display.max_colwidth', None)"
   ]
  },
  {
   "cell_type": "code",
   "execution_count": 8,
   "id": "d6b53b70",
   "metadata": {},
   "outputs": [
    {
     "data": {
      "text/html": [
       "<div>\n",
       "<style scoped>\n",
       "    .dataframe tbody tr th:only-of-type {\n",
       "        vertical-align: middle;\n",
       "    }\n",
       "\n",
       "    .dataframe tbody tr th {\n",
       "        vertical-align: top;\n",
       "    }\n",
       "\n",
       "    .dataframe thead th {\n",
       "        text-align: right;\n",
       "    }\n",
       "</style>\n",
       "<table border=\"1\" class=\"dataframe\">\n",
       "  <thead>\n",
       "    <tr style=\"text-align: right;\">\n",
       "      <th></th>\n",
       "      <th>Unnamed: 0</th>\n",
       "      <th>beer_name</th>\n",
       "      <th>ID</th>\n",
       "      <th>rating</th>\n",
       "      <th>date</th>\n",
       "      <th>review</th>\n",
       "      <th>Aroma</th>\n",
       "      <th>Appearance</th>\n",
       "      <th>Flavor</th>\n",
       "      <th>Mouthfeel</th>\n",
       "      <th>beer_st</th>\n",
       "      <th>alcohol</th>\n",
       "      <th>tokens</th>\n",
       "      <th>tokens_filtered</th>\n",
       "    </tr>\n",
       "  </thead>\n",
       "  <tbody>\n",
       "    <tr>\n",
       "      <th>0</th>\n",
       "      <td>0</td>\n",
       "      <td>Kloud Original Gravity</td>\n",
       "      <td>vinivini(9,584)</td>\n",
       "      <td>2.9</td>\n",
       "      <td>December 29, 2022</td>\n",
       "      <td>Straight from the can. Clean, malty, bready &amp; grassy. Light sweet, light to medium bitter. Mouth feel: light to medium body, avera to lively carbonation.</td>\n",
       "      <td>2</td>\n",
       "      <td>4</td>\n",
       "      <td>3</td>\n",
       "      <td>4</td>\n",
       "      <td>Pale Lager - International / Premium</td>\n",
       "      <td>5.0%</td>\n",
       "      <td>['straight', 'can', 'clean', 'malty', 'bready', 'grassy', 'light', 'sweet', 'light', 'medium', 'bitter', 'mouth', 'feel', 'light', 'medium', 'body', 'avera', 'lively', 'carbonation']</td>\n",
       "      <td>['straight', 'clean', 'malty', 'bready', 'grassy', 'light', 'sweet', 'light', 'medium', 'bitter', 'mouth', 'feel', 'light', 'medium', 'body', 'avera', 'lively', 'carbonation']</td>\n",
       "    </tr>\n",
       "  </tbody>\n",
       "</table>\n",
       "</div>"
      ],
      "text/plain": [
       "   Unnamed: 0               beer_name               ID  rating  \\\n",
       "0           0  Kloud Original Gravity  vinivini(9,584)     2.9   \n",
       "\n",
       "                date  \\\n",
       "0  December 29, 2022   \n",
       "\n",
       "                                                                                                                                                       review  \\\n",
       "0  Straight from the can. Clean, malty, bready & grassy. Light sweet, light to medium bitter. Mouth feel: light to medium body, avera to lively carbonation.    \n",
       "\n",
       "   Aroma  Appearance  Flavor  Mouthfeel  \\\n",
       "0      2           4       3          4   \n",
       "\n",
       "                                  beer_st alcohol  \\\n",
       "0  Pale Lager - International / Premium      5.0%   \n",
       "\n",
       "                                                                                                                                                                                   tokens  \\\n",
       "0  ['straight', 'can', 'clean', 'malty', 'bready', 'grassy', 'light', 'sweet', 'light', 'medium', 'bitter', 'mouth', 'feel', 'light', 'medium', 'body', 'avera', 'lively', 'carbonation']   \n",
       "\n",
       "                                                                                                                                                                   tokens_filtered  \n",
       "0  ['straight', 'clean', 'malty', 'bready', 'grassy', 'light', 'sweet', 'light', 'medium', 'bitter', 'mouth', 'feel', 'light', 'medium', 'body', 'avera', 'lively', 'carbonation']  "
      ]
     },
     "execution_count": 8,
     "metadata": {},
     "output_type": "execute_result"
    }
   ],
   "source": [
    "df.head(1)"
   ]
  },
  {
   "cell_type": "markdown",
   "id": "312422a9",
   "metadata": {},
   "source": [
    "## CountVectorizer"
   ]
  },
  {
   "cell_type": "code",
   "execution_count": 10,
   "id": "b0d71514",
   "metadata": {},
   "outputs": [],
   "source": [
    "from sklearn.feature_extraction.text import CountVectorizer"
   ]
  },
  {
   "cell_type": "code",
   "execution_count": 11,
   "id": "ad46e0c9",
   "metadata": {},
   "outputs": [],
   "source": [
    "vectorizer = CountVectorizer()"
   ]
  },
  {
   "cell_type": "code",
   "execution_count": 9,
   "id": "0461ef10",
   "metadata": {},
   "outputs": [],
   "source": [
    "X = df['tokens_filtered']\n",
    "y = df['Aroma']"
   ]
  },
  {
   "cell_type": "code",
   "execution_count": 12,
   "id": "0f0aa3e2",
   "metadata": {},
   "outputs": [],
   "source": [
    "# countervertorizer 학습\n",
    "vectorizer.fit(X) \n",
    "\n",
    "# transform\n",
    "X = vectorizer.transform(X)"
   ]
  },
  {
   "cell_type": "code",
   "execution_count": 13,
   "id": "04fba7bf",
   "metadata": {},
   "outputs": [
    {
     "data": {
      "text/plain": [
       "[array(['avera', 'bitter', 'body', 'bready', 'carbonation', 'clean',\n",
       "        'feel', 'grassy', 'light', 'lively', 'malty', 'medium', 'mouth',\n",
       "        'straight', 'sweet'], dtype='<U112')]"
      ]
     },
     "execution_count": 13,
     "metadata": {},
     "output_type": "execute_result"
    }
   ],
   "source": [
    "# 역변환 해서 확인도 가능\n",
    "vectorizer.inverse_transform(X[0])"
   ]
  },
  {
   "cell_type": "markdown",
   "id": "7e782b2a",
   "metadata": {},
   "source": [
    "## Logistic Regression"
   ]
  },
  {
   "cell_type": "code",
   "execution_count": null,
   "id": "cc2f146d",
   "metadata": {},
   "outputs": [],
   "source": []
  }
 ],
 "metadata": {
  "kernelspec": {
   "display_name": "Python 3 (ipykernel)",
   "language": "python",
   "name": "python3"
  },
  "language_info": {
   "codemirror_mode": {
    "name": "ipython",
    "version": 3
   },
   "file_extension": ".py",
   "mimetype": "text/x-python",
   "name": "python",
   "nbconvert_exporter": "python",
   "pygments_lexer": "ipython3",
   "version": "3.9.16"
  }
 },
 "nbformat": 4,
 "nbformat_minor": 5
}
