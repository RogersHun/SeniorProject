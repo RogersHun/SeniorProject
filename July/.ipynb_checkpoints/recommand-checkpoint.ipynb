{
 "cells": [
  {
   "cell_type": "code",
   "execution_count": 1,
   "id": "19627879",
   "metadata": {},
   "outputs": [],
   "source": [
    "import pandas as pd"
   ]
  },
  {
   "cell_type": "code",
   "execution_count": 2,
   "id": "cdf77dbf",
   "metadata": {},
   "outputs": [],
   "source": [
    "df = pd.read_csv('./beer_tok.csv')"
   ]
  },
  {
   "cell_type": "code",
   "execution_count": 6,
   "id": "7f2af660",
   "metadata": {},
   "outputs": [],
   "source": [
    "pd.set_option('display.max_columns', None)\n",
    "pd.set_option('display.max_colwidth', None)"
   ]
  },
  {
   "cell_type": "code",
   "execution_count": 7,
   "id": "7379c5a4",
   "metadata": {},
   "outputs": [
    {
     "data": {
      "text/html": [
       "<div>\n",
       "<style scoped>\n",
       "    .dataframe tbody tr th:only-of-type {\n",
       "        vertical-align: middle;\n",
       "    }\n",
       "\n",
       "    .dataframe tbody tr th {\n",
       "        vertical-align: top;\n",
       "    }\n",
       "\n",
       "    .dataframe thead th {\n",
       "        text-align: right;\n",
       "    }\n",
       "</style>\n",
       "<table border=\"1\" class=\"dataframe\">\n",
       "  <thead>\n",
       "    <tr style=\"text-align: right;\">\n",
       "      <th></th>\n",
       "      <th>Unnamed: 0</th>\n",
       "      <th>beer_name</th>\n",
       "      <th>ID</th>\n",
       "      <th>rating</th>\n",
       "      <th>date</th>\n",
       "      <th>review</th>\n",
       "      <th>Aroma</th>\n",
       "      <th>Appearance</th>\n",
       "      <th>Flavor</th>\n",
       "      <th>Mouthfeel</th>\n",
       "      <th>beer_st</th>\n",
       "      <th>alcohol</th>\n",
       "      <th>tokens</th>\n",
       "      <th>tokens_filtered</th>\n",
       "    </tr>\n",
       "  </thead>\n",
       "  <tbody>\n",
       "    <tr>\n",
       "      <th>0</th>\n",
       "      <td>0</td>\n",
       "      <td>Kloud Original Gravity</td>\n",
       "      <td>vinivini(9,584)</td>\n",
       "      <td>2.9</td>\n",
       "      <td>December 29, 2022</td>\n",
       "      <td>Straight from the can. Clean, malty, bready &amp; grassy. Light sweet, light to medium bitter. Mouth feel: light to medium body, avera to lively carbonation.</td>\n",
       "      <td>2</td>\n",
       "      <td>4</td>\n",
       "      <td>3</td>\n",
       "      <td>4</td>\n",
       "      <td>Pale Lager - International / Premium</td>\n",
       "      <td>5.0%</td>\n",
       "      <td>['straight', 'can', 'clean', 'malty', 'bready', 'grassy', 'light', 'sweet', 'light', 'medium', 'bitter', 'mouth', 'feel', 'light', 'medium', 'body', 'avera', 'lively', 'carbonation']</td>\n",
       "      <td>['straight', 'clean', 'malty', 'bready', 'grassy', 'light', 'sweet', 'light', 'medium', 'bitter', 'mouth', 'feel', 'light', 'medium', 'body', 'avera', 'lively', 'carbonation']</td>\n",
       "    </tr>\n",
       "  </tbody>\n",
       "</table>\n",
       "</div>"
      ],
      "text/plain": [
       "   Unnamed: 0               beer_name               ID  rating  \\\n",
       "0           0  Kloud Original Gravity  vinivini(9,584)     2.9   \n",
       "\n",
       "                date  \\\n",
       "0  December 29, 2022   \n",
       "\n",
       "                                                                                                                                                       review  \\\n",
       "0  Straight from the can. Clean, malty, bready & grassy. Light sweet, light to medium bitter. Mouth feel: light to medium body, avera to lively carbonation.    \n",
       "\n",
       "   Aroma  Appearance  Flavor  Mouthfeel  \\\n",
       "0      2           4       3          4   \n",
       "\n",
       "                                  beer_st alcohol  \\\n",
       "0  Pale Lager - International / Premium      5.0%   \n",
       "\n",
       "                                                                                                                                                                                   tokens  \\\n",
       "0  ['straight', 'can', 'clean', 'malty', 'bready', 'grassy', 'light', 'sweet', 'light', 'medium', 'bitter', 'mouth', 'feel', 'light', 'medium', 'body', 'avera', 'lively', 'carbonation']   \n",
       "\n",
       "                                                                                                                                                                   tokens_filtered  \n",
       "0  ['straight', 'clean', 'malty', 'bready', 'grassy', 'light', 'sweet', 'light', 'medium', 'bitter', 'mouth', 'feel', 'light', 'medium', 'body', 'avera', 'lively', 'carbonation']  "
      ]
     },
     "execution_count": 7,
     "metadata": {},
     "output_type": "execute_result"
    }
   ],
   "source": [
    "df.head(1)"
   ]
  },
  {
   "cell_type": "code",
   "execution_count": 8,
   "id": "ed9905b6",
   "metadata": {},
   "outputs": [],
   "source": [
    "token_df = df.groupby('beer_name')['tokens_filtered'].sum().reset_index()"
   ]
  },
  {
   "cell_type": "code",
   "execution_count": 30,
   "id": "4a393b71",
   "metadata": {
    "scrolled": true
   },
   "outputs": [
    {
     "name": "stdout",
     "output_type": "stream",
     "text": [
      "<class 'pandas.core.frame.DataFrame'>\n",
      "RangeIndex: 69 entries, 0 to 68\n",
      "Data columns (total 2 columns):\n",
      " #   Column           Non-Null Count  Dtype \n",
      "---  ------           --------------  ----- \n",
      " 0   beer_name        69 non-null     object\n",
      " 1   tokens_filtered  69 non-null     object\n",
      "dtypes: object(2)\n",
      "memory usage: 1.2+ KB\n"
     ]
    }
   ],
   "source": [
    "token_df.info()"
   ]
  },
  {
   "cell_type": "code",
   "execution_count": 31,
   "id": "2f4fbe65",
   "metadata": {},
   "outputs": [],
   "source": [
    "token_df.head(1)"
   ]
  },
  {
   "cell_type": "code",
   "execution_count": 23,
   "id": "947be044",
   "metadata": {},
   "outputs": [],
   "source": [
    "new_df =[]\n",
    "new_df = pd.DataFrame(new_df)\n",
    "# new_df = pd.DataFrame() 으로도 가능\n",
    "\n",
    "new_df['beer_name']= token_df['beer_name']"
   ]
  },
  {
   "cell_type": "code",
   "execution_count": 24,
   "id": "d97fdb76",
   "metadata": {},
   "outputs": [
    {
     "data": {
      "text/plain": [
       "pandas.core.frame.DataFrame"
      ]
     },
     "execution_count": 24,
     "metadata": {},
     "output_type": "execute_result"
    }
   ],
   "source": [
    "type(new_df)"
   ]
  },
  {
   "cell_type": "code",
   "execution_count": 25,
   "id": "e49c3e9c",
   "metadata": {},
   "outputs": [],
   "source": [
    "new_df = new_df.merge(token_df, on='beer_name')"
   ]
  },
  {
   "cell_type": "code",
   "execution_count": 26,
   "id": "039cfec2",
   "metadata": {},
   "outputs": [
    {
     "data": {
      "text/html": [
       "<div>\n",
       "<style scoped>\n",
       "    .dataframe tbody tr th:only-of-type {\n",
       "        vertical-align: middle;\n",
       "    }\n",
       "\n",
       "    .dataframe tbody tr th {\n",
       "        vertical-align: top;\n",
       "    }\n",
       "\n",
       "    .dataframe thead th {\n",
       "        text-align: right;\n",
       "    }\n",
       "</style>\n",
       "<table border=\"1\" class=\"dataframe\">\n",
       "  <thead>\n",
       "    <tr style=\"text-align: right;\">\n",
       "      <th></th>\n",
       "      <th>beer_name</th>\n",
       "      <th>tokens_filtered</th>\n",
       "    </tr>\n",
       "  </thead>\n",
       "  <tbody>\n",
       "  </tbody>\n",
       "</table>\n",
       "</div>"
      ],
      "text/plain": [
       "Empty DataFrame\n",
       "Columns: [beer_name, tokens_filtered]\n",
       "Index: []"
      ]
     },
     "execution_count": 26,
     "metadata": {},
     "output_type": "execute_result"
    }
   ],
   "source": [
    "new_df.head(2)"
   ]
  }
 ],
 "metadata": {
  "kernelspec": {
   "display_name": "Python 3 (ipykernel)",
   "language": "python",
   "name": "python3"
  },
  "language_info": {
   "codemirror_mode": {
    "name": "ipython",
    "version": 3
   },
   "file_extension": ".py",
   "mimetype": "text/x-python",
   "name": "python",
   "nbconvert_exporter": "python",
   "pygments_lexer": "ipython3",
   "version": "3.9.16"
  }
 },
 "nbformat": 4,
 "nbformat_minor": 5
}
